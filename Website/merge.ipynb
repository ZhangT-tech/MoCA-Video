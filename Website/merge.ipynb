{
 "cells": [
  {
   "cell_type": "code",
   "execution_count": 4,
   "metadata": {},
   "outputs": [],
   "source": [
    "import json\n",
    "from copy import deepcopy\n",
    "gpt_eval = json.load(open('gpt_eval.json'))\n",
    "meterials_captions = json.load(open('materials.json'))\n",
    "\n",
    "new_gpt_eval = deepcopy(gpt_eval)\n",
    "\n",
    "for key in gpt_eval:\n",
    "    new_gpt_eval[key]['materials'] = meterials_captions[key]['materials']\n",
    "    new_gpt_eval[key]['captions'] = new_gpt_eval[key]['captions'].replace('<p>', '').replace('</p>[SEG]', '')"
   ]
  },
  {
   "cell_type": "code",
   "execution_count": 5,
   "metadata": {},
   "outputs": [],
   "source": [
    "json.dump(new_gpt_eval, open('captions.json', 'w'), indent=2)"
   ]
  },
  {
   "cell_type": "code",
   "execution_count": 2,
   "metadata": {},
   "outputs": [
    {
     "name": "stdout",
     "output_type": "stream",
     "text": [
      "31250\n",
      "6770\n"
     ]
    }
   ],
   "source": [
    "\n",
    "import json\n",
    "\n",
    "captions = json.load(open('captions3.json'))\n",
    "\n",
    "sum = 0\n",
    "for key, data in captions.items():\n",
    "    sum += len(data['parts'])\n",
    "print(sum)\n",
    "\n",
    "print(len(captions))"
   ]
  },
  {
   "cell_type": "code",
   "execution_count": 5,
   "metadata": {},
   "outputs": [
    {
     "name": "stdout",
     "output_type": "stream",
     "text": [
      "210\n"
     ]
    }
   ],
   "source": [
    "color_captions = json.load(open('color_captions.json'))\n",
    "\n",
    "print(len(color_captions))\n",
    "\n",
    "for key in color_captions:\n",
    "    captions[key]['captions'] = color_captions[key]\n",
    "\n",
    "json.dump(captions, open('captions2.json', 'w'), indent=2)\n"
   ]
  },
  {
   "cell_type": "code",
   "execution_count": 8,
   "metadata": {},
   "outputs": [
    {
     "name": "stdout",
     "output_type": "stream",
     "text": [
      "38\n"
     ]
    }
   ],
   "source": [
    "key = '0b_000_0'\n",
    "# get the index of this key in captions\n",
    "index = 0\n",
    "for i, k in enumerate(captions):\n",
    "    if k == key:\n",
    "        index = i\n",
    "        break\n",
    "print(index)"
   ]
  },
  {
   "cell_type": "code",
   "execution_count": null,
   "metadata": {},
   "outputs": [],
   "source": [
    "for key in captions:\n",
    "    parts = captions[key]['parts']\n",
    "    parts_fixed = [part.replace(' ', '_') for part in parts]\n",
    "    captions[key]['parts'] = parts_fixed\n",
    "    print(captions[key]['captions'])\n",
    "    for i, part in enumerate(parts):\n",
    "        captions[key]['captions'] = captions[key]['captions'].replace(part, parts_fixed[i])\n",
    "    print(captions[key]['captions'])\n",
    "    print('-'*100)\n",
    "json.dump(captions, open('captions2.json', 'w'), indent=2)\n"
   ]
  },
  {
   "cell_type": "code",
   "execution_count": 19,
   "metadata": {},
   "outputs": [],
   "source": [
    "import os\n",
    "import shutil\n",
    "\n",
    "# Define the paths\n",
    "images_path = 'static/images/'\n",
    "unused_images_path = 'static/unused_images/'\n",
    "\n",
    "# Create the unused images directory if it doesn't exist\n",
    "if not os.path.exists(unused_images_path):\n",
    "    os.makedirs(unused_images_path)\n",
    "\n",
    "# Get the list of images in the directory\n",
    "images = [img for img in os.listdir(images_path) if img.endswith('.png')]\n",
    "\n",
    "# Get the list of keys from the captions\n",
    "caption_keys = set(captions.keys())\n",
    "\n",
    "# Move images that are not in the captions to the unused images directory\n",
    "for image in images:\n",
    "    key = '_'.join(image.split('_')[:-1])\n",
    "    if key not in caption_keys:\n",
    "        # print(key)\n",
    "        shutil.move(os.path.join(images_path, image), os.path.join(unused_images_path, image))\n",
    "\n",
    "\n",
    "\n",
    "\n",
    "\n"
   ]
  },
  {
   "cell_type": "code",
   "execution_count": 2,
   "metadata": {},
   "outputs": [
    {
     "name": "stdout",
     "output_type": "stream",
     "text": [
      "31250\n"
     ]
    }
   ],
   "source": [
    "import json\n",
    "\n",
    "captions = json.load(open('captions3.json'))\n",
    "all_parts = []\n",
    "for key in captions:\n",
    "    all_parts.extend(captions[key]['parts'])\n",
    "print(len(all_parts))"
   ]
  },
  {
   "cell_type": "code",
   "execution_count": 3,
   "metadata": {},
   "outputs": [
    {
     "name": "stdout",
     "output_type": "stream",
     "text": [
      "6770\n"
     ]
    }
   ],
   "source": [
    "print(len(captions))\n"
   ]
  },
  {
   "cell_type": "code",
   "execution_count": 6,
   "metadata": {},
   "outputs": [],
   "source": [
    "import json\n",
    "\n",
    "captions = json.load(open('valid_grounded_part_captions.json'))\n",
    "gt_metadata = json.load(open('valid_metadata_2d.json'))\n",
    "for key in captions:\n",
    "    captions[key]['captions'] = captions[key]['captions'].replace('<p>', '').replace('</p>[SEG]', '')\n",
    "    captions[key]['parts'] = [part.replace('_', ' ') for part in gt_metadata[key]['parts']]\n",
    "    captions[key]['map'] = {}\n",
    "    for part in captions[key]['parts']:\n",
    "        captions[key]['map'][part] = gt_metadata[key]['materials'][captions[key]['parts'].index(part)]\n",
    "json.dump(captions, open('captions3.json', 'w'), indent=2)"
   ]
  },
  {
   "cell_type": "code",
   "execution_count": 1,
   "metadata": {},
   "outputs": [
    {
     "ename": "FileNotFoundError",
     "evalue": "[Errno 2] No such file or directory: 'data.json'",
     "output_type": "error",
     "traceback": [
      "\u001b[0;31m---------------------------------------------------------------------------\u001b[0m",
      "\u001b[0;31mFileNotFoundError\u001b[0m                         Traceback (most recent call last)",
      "Cell \u001b[0;32mIn[1], line 3\u001b[0m\n\u001b[1;32m      1\u001b[0m \u001b[38;5;28;01mimport\u001b[39;00m \u001b[38;5;21;01mjson\u001b[39;00m\n\u001b[0;32m----> 3\u001b[0m data \u001b[38;5;241m=\u001b[39m json\u001b[38;5;241m.\u001b[39mload(\u001b[38;5;28;43mopen\u001b[39;49m\u001b[43m(\u001b[49m\u001b[38;5;124;43m'\u001b[39;49m\u001b[38;5;124;43mdata.json\u001b[39;49m\u001b[38;5;124;43m'\u001b[39;49m\u001b[43m)\u001b[49m)\n\u001b[1;32m      5\u001b[0m \u001b[38;5;66;03m# output the keys of the data in a text file\u001b[39;00m\n\u001b[1;32m      6\u001b[0m \u001b[38;5;28;01mwith\u001b[39;00m \u001b[38;5;28mopen\u001b[39m(\u001b[38;5;124m'\u001b[39m\u001b[38;5;124mkeys.txt\u001b[39m\u001b[38;5;124m'\u001b[39m, \u001b[38;5;124m'\u001b[39m\u001b[38;5;124mw\u001b[39m\u001b[38;5;124m'\u001b[39m) \u001b[38;5;28;01mas\u001b[39;00m f:\n",
      "File \u001b[0;32m~/miniconda3/envs/test/lib/python3.11/site-packages/IPython/core/interactiveshell.py:324\u001b[0m, in \u001b[0;36m_modified_open\u001b[0;34m(file, *args, **kwargs)\u001b[0m\n\u001b[1;32m    317\u001b[0m \u001b[38;5;28;01mif\u001b[39;00m file \u001b[38;5;129;01min\u001b[39;00m {\u001b[38;5;241m0\u001b[39m, \u001b[38;5;241m1\u001b[39m, \u001b[38;5;241m2\u001b[39m}:\n\u001b[1;32m    318\u001b[0m     \u001b[38;5;28;01mraise\u001b[39;00m \u001b[38;5;167;01mValueError\u001b[39;00m(\n\u001b[1;32m    319\u001b[0m         \u001b[38;5;124mf\u001b[39m\u001b[38;5;124m\"\u001b[39m\u001b[38;5;124mIPython won\u001b[39m\u001b[38;5;124m'\u001b[39m\u001b[38;5;124mt let you open fd=\u001b[39m\u001b[38;5;132;01m{\u001b[39;00mfile\u001b[38;5;132;01m}\u001b[39;00m\u001b[38;5;124m by default \u001b[39m\u001b[38;5;124m\"\u001b[39m\n\u001b[1;32m    320\u001b[0m         \u001b[38;5;124m\"\u001b[39m\u001b[38;5;124mas it is likely to crash IPython. If you know what you are doing, \u001b[39m\u001b[38;5;124m\"\u001b[39m\n\u001b[1;32m    321\u001b[0m         \u001b[38;5;124m\"\u001b[39m\u001b[38;5;124myou can use builtins\u001b[39m\u001b[38;5;124m'\u001b[39m\u001b[38;5;124m open.\u001b[39m\u001b[38;5;124m\"\u001b[39m\n\u001b[1;32m    322\u001b[0m     )\n\u001b[0;32m--> 324\u001b[0m \u001b[38;5;28;01mreturn\u001b[39;00m \u001b[43mio_open\u001b[49m\u001b[43m(\u001b[49m\u001b[43mfile\u001b[49m\u001b[43m,\u001b[49m\u001b[43m \u001b[49m\u001b[38;5;241;43m*\u001b[39;49m\u001b[43margs\u001b[49m\u001b[43m,\u001b[49m\u001b[43m \u001b[49m\u001b[38;5;241;43m*\u001b[39;49m\u001b[38;5;241;43m*\u001b[39;49m\u001b[43mkwargs\u001b[49m\u001b[43m)\u001b[49m\n",
      "\u001b[0;31mFileNotFoundError\u001b[0m: [Errno 2] No such file or directory: 'data.json'"
     ]
    }
   ],
   "source": []
  },
  {
   "cell_type": "code",
   "execution_count": null,
   "metadata": {},
   "outputs": [],
   "source": []
  }
 ],
 "metadata": {
  "kernelspec": {
   "display_name": "test",
   "language": "python",
   "name": "python3"
  },
  "language_info": {
   "codemirror_mode": {
    "name": "ipython",
    "version": 3
   },
   "file_extension": ".py",
   "mimetype": "text/x-python",
   "name": "python",
   "nbconvert_exporter": "python",
   "pygments_lexer": "ipython3",
   "version": "3.11.9"
  }
 },
 "nbformat": 4,
 "nbformat_minor": 2
}
